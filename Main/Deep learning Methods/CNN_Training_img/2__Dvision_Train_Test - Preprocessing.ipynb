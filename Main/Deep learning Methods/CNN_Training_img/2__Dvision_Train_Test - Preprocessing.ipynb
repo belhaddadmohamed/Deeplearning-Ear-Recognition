{
 "cells": [
  {
   "cell_type": "code",
   "execution_count": 18,
   "metadata": {},
   "outputs": [],
   "source": [
    "import os\n",
    "import random\n",
    "import shutil\n",
    "import math\n",
    "from glob import glob\n"
   ]
  },
  {
   "cell_type": "code",
   "execution_count": 19,
   "metadata": {},
   "outputs": [],
   "source": [
    "\n",
    "# Path to your dataset folder\n",
    "data_dir = \"C:/Users/PC-MOH/Desktop/Rahmani Deep leanring/affichage pretraitement\"\n",
    "\n",
    "# Output folders for train and test sets\n",
    "train_dir = \"data/train_test_img/train_preprocess\"\n",
    "test_dir = \"data/train_test_img/test_preprocess\"\n",
    "\n",
    "# Create the output folders if they don't exist\n",
    "os.makedirs(train_dir, exist_ok=True)\n",
    "os.makedirs(test_dir, exist_ok=True)\n",
    "# For each class folder in the dataset\n",
    "for class_name in os.listdir(data_dir):\n",
    "    class_path = os.path.join(data_dir, class_name, 'redimensionnement')\n",
    "    if os.path.isdir(class_path):\n",
    "        # Get the list of image files in the class folder\n",
    "        image_files = os.listdir(class_path)\n",
    "\n",
    "        # Shuffle the image files for random splitting\n",
    "        random.shuffle(image_files)\n",
    "\n",
    "        # Calculate the number of train and test samples\n",
    "        num_images = len(image_files)\n",
    "        num_train = math.ceil(num_images * 0.9)\n",
    "        num_test = num_images - num_train\n",
    "\n",
    "        # Split the image files into train and test\n",
    "        train_files = image_files[:num_train]\n",
    "        test_files = image_files[num_train:]\n",
    "\n",
    "        # Create class folders in train and test directories\n",
    "        train_class_dir = os.path.join(train_dir, class_name)\n",
    "        test_class_dir = os.path.join(test_dir, class_name)\n",
    "\n",
    "        os.makedirs(train_class_dir, exist_ok=True)\n",
    "        os.makedirs(test_class_dir, exist_ok=True)\n",
    "\n",
    "        # Move/copy files to the corresponding train and test class folders\n",
    "        for file in train_files:\n",
    "            src = os.path.join(class_path, file)\n",
    "            dest = os.path.join(train_class_dir, file)\n",
    "            shutil.copy(src, dest)  # Use shutil.move if you want to move instead of copying\n",
    "\n",
    "        for file in test_files:\n",
    "            src = os.path.join(class_path, file)\n",
    "            dest = os.path.join(test_class_dir, file)\n",
    "            shutil.copy(src, dest)  # Use shutil.move if you want to move instead of copying\n"
   ]
  },
  {
   "cell_type": "code",
   "execution_count": 20,
   "metadata": {},
   "outputs": [
    {
     "name": "stdout",
     "output_type": "stream",
     "text": [
      "Train images: 1900\n",
      "Test images: 200\n"
     ]
    }
   ],
   "source": [
    "train_images = []\n",
    "test_images = []\n",
    "train_images.extend(glob(os.path.join(train_dir, '**', f'*.png'), recursive=True))\n",
    "test_images.extend(glob(os.path.join(test_dir, '**', f'*.png'), recursive=True))\n",
    "print(\"Train images:\", len(train_images))\n",
    "print(\"Test images:\", len(test_images))"
   ]
  },
  {
   "cell_type": "code",
   "execution_count": null,
   "metadata": {},
   "outputs": [],
   "source": []
  }
 ],
 "metadata": {
  "kernelspec": {
   "display_name": "base",
   "language": "python",
   "name": "python3"
  },
  "language_info": {
   "codemirror_mode": {
    "name": "ipython",
    "version": 3
   },
   "file_extension": ".py",
   "mimetype": "text/x-python",
   "name": "python",
   "nbconvert_exporter": "python",
   "pygments_lexer": "ipython3",
   "version": "3.12.2"
  }
 },
 "nbformat": 4,
 "nbformat_minor": 2
}
